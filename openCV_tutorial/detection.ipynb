{
 "cells": [
  {
   "cell_type": "code",
   "execution_count": 4,
   "metadata": {},
   "outputs": [
    {
     "name": "stderr",
     "output_type": "stream",
     "text": [
      "[ WARN:0@4412.452] global /private/var/folders/nz/j6p8yfhx1mv_0grj5xl4650h0000gp/T/abs_562_cazh1h/croots/recipe/opencv-suite_1664548333142/work/modules/videoio/src/cap_gstreamer.cpp (862) isPipelinePlaying OpenCV | GStreamer warning: GStreamer: pipeline have not been created\n"
     ]
    },
    {
     "name": "stdout",
     "output_type": "stream",
     "text": [
      "動体検知を開始します。\n",
      "2023-02-15 16:21:59.341529\n",
      "動体検知を終了します。\n",
      "2023-02-15 16:22:10.304405\n"
     ]
    }
   ],
   "source": [
    "# https://sasuwo.org/motion-detection/\n",
    "# python 物体検知 カメラ\n",
    "# 必要なライブラリのインポート\n",
    "import cv2\n",
    "import datetime\n",
    "\n",
    "# Webカメラを使うときはこちら\n",
    "cap = cv2.VideoCapture(0)\n",
    "\n",
    "# ファイルパスで動画を読み込むときはこちら\n",
    "# filepath = \"読み込みたい動画ファイルのあるパスを入力する\"\n",
    "# cap = cv2.VideoCapture(filepath)\n",
    "\n",
    "\n",
    "before = None\n",
    "count = 1\n",
    "time = datetime.date.today()\n",
    "\n",
    "print(\"動体検知を開始します。\")\n",
    "print(str(datetime.datetime.now()))\n",
    "\n",
    "while True:\n",
    "    # 画像を取得\n",
    "    ret, frame = cap.read()\n",
    "\n",
    "    # 再生が終了したらループを抜ける\n",
    "    if ret == False:\n",
    "        break\n",
    "\n",
    "    # 白黒画像に変換\n",
    "    gray = cv2.cvtColor(frame, cv2.COLOR_BGR2GRAY)\n",
    "\n",
    "    if before is None:\n",
    "        before = gray.astype(\"float\")\n",
    "        continue\n",
    "\n",
    "    # 現在のフレームと移動平均との差を計算\n",
    "    cv2.accumulateWeighted(gray, before, 0.5)\n",
    "    frameDelta = cv2.absdiff(gray, cv2.convertScaleAbs(before))\n",
    "\n",
    "    # frameDeltaの画像を２値化\n",
    "    thresh = cv2.threshold(frameDelta, 3, 255, cv2.THRESH_BINARY)[1]\n",
    "    \n",
    "    # 輪郭のデータを取得\n",
    "    contours = cv2.findContours(thresh,\n",
    "                    cv2.RETR_EXTERNAL,\n",
    "                    cv2.CHAIN_APPROX_SIMPLE)[0]\n",
    "\n",
    "    # 差分があった点を画面に描画\n",
    "    for target in contours:\n",
    "        x, y, w, h = cv2.boundingRect(target)\n",
    "        \n",
    "        # 小さい変更点は無視\n",
    "        if w < 30:\n",
    "            continue \n",
    "\n",
    "        areaframe = cv2.rectangle(frame, (x, y), (x+w, y+h), (0,255,0), 2)\n",
    "\n",
    "        if count == 1 or count == 100:\n",
    "            cv2.imwrite('test.jpg',areaframe)\n",
    "        count = count + 1\n",
    "\n",
    "    # ウィンドウで表示\n",
    "    cv2.imshow('target_frame', frame)\n",
    "\n",
    "    # Enterキーが押されたらループを抜ける\n",
    "    if cv2.waitKey(1) == 13: break\n",
    "\n",
    "print(\"動体検知を終了します。\")\n",
    "print(str(datetime.datetime.now()))\n",
    "\n",
    "# ウィンドウの破棄\n",
    "cv2.destroyAllWindows()"
   ]
  },
  {
   "attachments": {},
   "cell_type": "markdown",
   "metadata": {},
   "source": [
    "## yolov5 を実装"
   ]
  },
  {
   "cell_type": "code",
   "execution_count": 1,
   "metadata": {},
   "outputs": [
    {
     "name": "stderr",
     "output_type": "stream",
     "text": [
      "/Users/kunia/opt/anaconda3/envs/detection/lib/python3.9/site-packages/tqdm/auto.py:22: TqdmWarning: IProgress not found. Please update jupyter and ipywidgets. See https://ipywidgets.readthedocs.io/en/stable/user_install.html\n",
      "  from .autonotebook import tqdm as notebook_tqdm\n"
     ]
    }
   ],
   "source": [
    "import torch\n",
    "# model = torch.hub.load('../../yolov5/', 'yolov5s') \n",
    "model = torch.hub.load('ultralytics/yolov5', 'yolov5s', pretrained=True)"
   ]
  },
  {
   "cell_type": "code",
   "execution_count": null,
   "metadata": {},
   "outputs": [],
   "source": [
    "# https://sasuwo.org/motion-detection/\n",
    "# python 物体検知 カメラ\n",
    "# 必要なライブラリのインポート\n",
    "import cv2\n",
    "import datetime\n",
    "\n",
    "# Webカメラを使うときはこちら\n",
    "cap = cv2.VideoCapture(0)\n",
    "\n",
    "# ファイルパスで動画を読み込むときはこちら\n",
    "# filepath = \"読み込みたい動画ファイルのあるパスを入力する\"\n",
    "# cap = cv2.VideoCapture(filepath)\n",
    "\n",
    "\n",
    "before = None\n",
    "count = 1\n",
    "time = datetime.date.today()\n",
    "\n",
    "print(\"動体検知を開始します。\")\n",
    "print(str(datetime.datetime.now()))\n",
    "\n",
    "while True:\n",
    "    # 画像を取得\n",
    "    ret, frame = cap.read()\n",
    "\n",
    "    # 再生が終了したらループを抜ける\n",
    "    if ret == False:\n",
    "        break\n",
    "\n",
    "    # 白黒画像に変換\n",
    "    # gray = cv2.cvtColor(frame, cv2.COLOR_BGR2GRAY)\n",
    "    img = cv2.cvtColor(frame, cv2.COLOR_BGR2BGRA)\n",
    "\n",
    "    if before is None:\n",
    "        before = img.astype(\"float\")\n",
    "        continue\n",
    "\n",
    "    # 現在のフレームと移動平均との差を計算\n",
    "    cv2.accumulateWeighted(gray, before, 0.5)\n",
    "    frameDelta = cv2.absdiff(gray, cv2.convertScaleAbs(before))\n",
    "\n",
    "    # frameDeltaの画像を２値化\n",
    "    thresh = cv2.threshold(frameDelta, 3, 255, cv2.THRESH_BINARY)[1]\n",
    "    \n",
    "    # 輪郭のデータを取得\n",
    "    contours = cv2.findContours(thresh,\n",
    "                    cv2.RETR_EXTERNAL,\n",
    "                    cv2.CHAIN_APPROX_SIMPLE)[0]\n",
    "\n",
    "    # 差分があった点を画面に描画\n",
    "    for target in contours:\n",
    "        x, y, w, h = cv2.boundingRect(target)\n",
    "        \n",
    "        # 小さい変更点は無視\n",
    "        if w < 30:\n",
    "            continue \n",
    "\n",
    "        areaframe = cv2.rectangle(frame, (x, y), (x+w, y+h), (0,255,0), 2)\n",
    "\n",
    "        if count == 1 or count == 100:\n",
    "            cv2.imwrite('test.jpg',areaframe)\n",
    "        count = count + 1\n",
    "\n",
    "    # ウィンドウで表示\n",
    "    cv2.imshow('target_frame', frame)\n",
    "\n",
    "    # Enterキーが押されたらループを抜ける\n",
    "    if cv2.waitKey(1) == 13: break\n",
    "\n",
    "print(\"動体検知を終了します。\")\n",
    "print(str(datetime.datetime.now()))\n",
    "\n",
    "# ウィンドウの破棄\n",
    "cv2.destroyAllWindows()"
   ]
  }
 ],
 "metadata": {
  "kernelspec": {
   "display_name": "practice2",
   "language": "python",
   "name": "python3"
  },
  "language_info": {
   "codemirror_mode": {
    "name": "ipython",
    "version": 3
   },
   "file_extension": ".py",
   "mimetype": "text/x-python",
   "name": "python",
   "nbconvert_exporter": "python",
   "pygments_lexer": "ipython3",
   "version": "3.9.7 | packaged by conda-forge | (default, Sep 29 2021, 19:24:02) \n[Clang 11.1.0 ]"
  },
  "orig_nbformat": 4,
  "vscode": {
   "interpreter": {
    "hash": "c7b63737d34f860a632a8143e822850a892e75196c8e7207c138f17d21e5a1d3"
   }
  }
 },
 "nbformat": 4,
 "nbformat_minor": 2
}
